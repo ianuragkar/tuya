{
 "cells": [
  {
   "cell_type": "code",
   "execution_count": 1,
   "metadata": {},
   "outputs": [],
   "source": [
    "import tuyapower\n",
    "import scan_devices\n",
    "em = scan_devices.fetch_available_devices(verbose=False)[0]\n",
    "\n",
    "import time\n",
    "import random\n",
    "import pandas as pd\n",
    "import matplotlib.pyplot as plt\n",
    "\n",
    "# create an empty dataframe with the columns\n",
    "df = pd.DataFrame(columns=['on', 'w', 'mA', 'V', 'err'])\n",
    "\n",
    "# define the fetch_data() function that returns random values for the variables\n",
    "def fetch_data():\n",
    "    (on, w, mA, V, err) = tuyapower.deviceInfo(em.id, em.ip, em.key, '3.4')\n",
    "    return on, w, mA, V, err"
   ]
  },
  {
   "cell_type": "code",
   "execution_count": 2,
   "metadata": {},
   "outputs": [],
   "source": [
    "# define the plot() function that plots the values in df columns w, mA and V\n",
    "def plot():\n",
    "    # create a figure with three subplots\n",
    "    fig, (ax1, ax2, ax3) = plt.subplots(3, 1)\n",
    "    # plot the w column as a line plot on ax1\n",
    "    ax1.plot(df['w'], color='blue')\n",
    "    ax1.set_ylabel('w')\n",
    "    # plot the mA column as a line plot on ax2\n",
    "    ax2.plot(df['mA'], color='green')\n",
    "    ax2.set_ylabel('mA')\n",
    "    # plot the V column as a line plot on ax3\n",
    "    ax3.plot(df['V'], color='red')\n",
    "    ax3.set_ylabel('V')\n",
    "    # set the x-axis label as 'time'\n",
    "    ax3.set_xlabel('time')\n",
    "    # show the figure\n",
    "    plt.show()\n",
    "\n",
    "# create a loop that runs indefinitely\n",
    "while True:\n",
    "    # get the current time\n",
    "    start = time.time()\n",
    "    # call the fetch_data() function and get the values\n",
    "    on, w, mA, V, err = fetch_data()\n",
    "    # append the values as a new row to df\n",
    "    df.loc[len(df)] = [on, w, mA, V, err]\n",
    "    # check if one second has passed since the last plot update\n",
    "    if time.time() - start >= 1:\n",
    "        # call the plot() function and update the plots\n",
    "        plot()\n",
    "        # reset the start time\n",
    "        start = time.time()\n",
    "        # check if five seconds have passed since the last plot save\n",
    "        if time.time() - start >= 5:\n",
    "            # save the figure as a png file\n",
    "            plt.savefig('energy.png')\n",
    "            # reset the start time\n",
    "            start = time.time()\n",
    "    # wait for 0.1 second before fetching new data\n",
    "    time.sleep(0.1)\n"
   ]
  }
 ],
 "metadata": {
  "kernelspec": {
   "display_name": "Python 3",
   "language": "python",
   "name": "python3"
  },
  "language_info": {
   "codemirror_mode": {
    "name": "ipython",
    "version": 3
   },
   "file_extension": ".py",
   "mimetype": "text/x-python",
   "name": "python",
   "nbconvert_exporter": "python",
   "pygments_lexer": "ipython3",
   "version": "3.11.0"
  },
  "orig_nbformat": 4
 },
 "nbformat": 4,
 "nbformat_minor": 2
}
